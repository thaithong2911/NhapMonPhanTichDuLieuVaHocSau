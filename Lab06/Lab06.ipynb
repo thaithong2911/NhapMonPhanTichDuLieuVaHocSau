{
  "nbformat": 4,
  "nbformat_minor": 0,
  "metadata": {
    "colab": {
      "name": "Copy of Lab06.ipynb",
      "provenance": [],
      "collapsed_sections": [],
      "include_colab_link": true
    },
    "kernelspec": {
      "name": "python3",
      "display_name": "Python 3"
    },
    "language_info": {
      "name": "python"
    }
  },
  "cells": [
    {
      "cell_type": "markdown",
      "metadata": {
        "id": "view-in-github",
        "colab_type": "text"
      },
      "source": [
        "<a href=\"https://colab.research.google.com/github/thaithong2911/NhapMonPhanTichDuLieuVaHocSau/blob/main/Lab06/Lab06.ipynb\" target=\"_parent\"><img src=\"https://colab.research.google.com/assets/colab-badge.svg\" alt=\"Open In Colab\"/></a>"
      ]
    },
    {
      "cell_type": "code",
      "metadata": {
        "colab": {
          "base_uri": "https://localhost:8080/",
          "height": 1000
        },
        "id": "wDWzWDx5fxjD",
        "outputId": "8a8f9af4-1a84-4f04-c81a-7056cc2ce095"
      },
      "source": [
        "import pandas as pd\n",
        "import numpy as np\n",
        "import matplotlib.pyplot as plt\n",
        "import seaborn as sns\n",
        "from scipy.stats.stats import pearsonr\n",
        "from scipy import stats\n",
        "import statsmodels.formula.api as smf\n",
        "\n",
        "df=pd.read_csv('https://raw.githubusercontent.com/Hung621/DataAnalystDeepLearning/main/Lab06/crabs.txt', sep='\\s+')\n",
        "print(df)\n",
        "print('He so tuong quan')\n",
        "print(pearsonr(df['postsz'],df['presz']))\n",
        "#dự báo\n",
        "result = smf.ols('presz~postsz',df).fit()\n",
        "print(result.summary())\n",
        "#phương trình hòi quy là\n",
        "#premost= -25.2137+1.0732*postmolt\n",
        "\n",
        "#y dự báo dựa vào phương trình hồi quy\n",
        "sales_pred=result.predict()\n",
        "plt.plot(df['postsz'],df['presz'],'o')\n",
        "plt.plot(df['postsz'],sales_pred,'r',linewidth=2)\n",
        "plt.xlabel('Postmolt size')\n",
        "plt.ylabel('Premolt size')\n",
        "plt.title('Premolt and Postmolt ')\n",
        "plt.show()"
      ],
      "execution_count": null,
      "outputs": [
        {
          "output_type": "stream",
          "name": "stdout",
          "text": [
            "     presz  postsz   inc  year  lf\n",
            "0    113.6   127.7  14.1   NaN   0\n",
            "1    118.1   133.2  15.1   NaN   0\n",
            "2    119.9   135.3  15.4   NaN   0\n",
            "3    126.2   143.3  17.1   NaN   0\n",
            "4    126.7   139.3  12.6   NaN   0\n",
            "..     ...     ...   ...   ...  ..\n",
            "467  135.9   150.3  14.4  92.0   1\n",
            "468  135.6   151.2  15.6  92.0   1\n",
            "469  129.6   143.5  13.9  92.0   1\n",
            "470  134.1   148.3  14.2  92.0   1\n",
            "471  114.4   129.2  14.8  92.0   1\n",
            "\n",
            "[472 rows x 5 columns]\n",
            "He so tuong quan\n",
            "(0.9903699282533854, 0.0)\n",
            "                            OLS Regression Results                            \n",
            "==============================================================================\n",
            "Dep. Variable:                  presz   R-squared:                       0.981\n",
            "Model:                            OLS   Adj. R-squared:                  0.981\n",
            "Method:                 Least Squares   F-statistic:                 2.405e+04\n",
            "Date:                Wed, 03 Nov 2021   Prob (F-statistic):               0.00\n",
            "Time:                        06:10:19   Log-Likelihood:                -1040.6\n",
            "No. Observations:                 472   AIC:                             2085.\n",
            "Df Residuals:                     470   BIC:                             2094.\n",
            "Df Model:                           1                                         \n",
            "Covariance Type:            nonrobust                                         \n",
            "==============================================================================\n",
            "                 coef    std err          t      P>|t|      [0.025      0.975]\n",
            "------------------------------------------------------------------------------\n",
            "Intercept    -25.2137      1.001    -25.191      0.000     -27.180     -23.247\n",
            "postsz         1.0732      0.007    155.083      0.000       1.060       1.087\n",
            "==============================================================================\n",
            "Omnibus:                      107.875   Durbin-Watson:                   1.684\n",
            "Prob(Omnibus):                  0.000   Jarque-Bera (JB):              625.191\n",
            "Skew:                           0.845   Prob(JB):                    1.74e-136\n",
            "Kurtosis:                       8.379   Cond. No.                     1.43e+03\n",
            "==============================================================================\n",
            "\n",
            "Warnings:\n",
            "[1] Standard Errors assume that the covariance matrix of the errors is correctly specified.\n",
            "[2] The condition number is large, 1.43e+03. This might indicate that there are\n",
            "strong multicollinearity or other numerical problems.\n"
          ]
        },
        {
          "output_type": "display_data",
          "data": {
            "image/png": "[encoded data removed]",
            "text/plain": [
              "<Figure size 432x288 with 1 Axes>"
            ]
          },
          "metadata": {
            "needs_background": "light"
          }
        }
      ]
    }
  ]
}