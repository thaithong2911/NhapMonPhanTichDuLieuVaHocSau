{
  "nbformat": 4,
  "nbformat_minor": 0,
  "metadata": {
    "colab": {
      "name": "Lab07.ipynb",
      "provenance": [],
      "collapsed_sections": [],
      "toc_visible": true,
      "include_colab_link": true
    },
    "kernelspec": {
      "name": "python3",
      "display_name": "Python 3"
    },
    "language_info": {
      "name": "python"
    }
  },
  "cells": [
    {
      "cell_type": "markdown",
      "metadata": {
        "id": "view-in-github",
        "colab_type": "text"
      },
      "source": [
        "<a href=\"https://colab.research.google.com/github/thaithong2911/NhapMonPhanTichDuLieuVaHocSau/blob/main/Lab07/Lab7.ipynb\" target=\"_parent\"><img src=\"https://colab.research.google.com/assets/colab-badge.svg\" alt=\"Open In Colab\"/></a>"
      ]
    },
    {
      "cell_type": "markdown",
      "metadata": {
        "id": "ctmFk59oOCE5"
      },
      "source": [
        "1. Thực hiện bài nhận dạng chữ viết tay với thư viện Keras."
      ]
    },
    {
      "cell_type": "code",
      "metadata": {
        "colab": {
          "base_uri": "https://localhost:8080/",
          "height": 1000
        },
        "id": "kcRhAetWLBLK",
        "outputId": "53eea323-a016-4312-a0ee-3bba18f8ffd7"
      },
      "source": [
        "import numpy as np\n",
        "# hàm này để hiển thị các tấm ảnh \n",
        "import matplotlib.pyplot as plt\n",
        "# để chọn ngẫu nhiên các tấm ảnh\n",
        "import random\n",
        "# để load dữ liệu trong tập mẫu\n",
        "from keras.datasets import mnist\n",
        "# các hàm sau để xây dựng mô hình mạng neural \n",
        "# thêm 1 lớp, thêm hàm kích hoạt activation\n",
        "from keras.models import Sequential\n",
        "from keras.utils import np_utils\n",
        "from keras.layers.core import Dense,Activation\n",
        "(x_train,y_train),(x_test,y_test)=mnist.load_data()\n",
        "\n",
        "# dữ liệu trong tập data mnist là 60000 tấm ảnh trắng đen có kích thước là 28X28 pixel\n",
        "# mỗi pixel có giá trị từ 0-255, 0 là màu đen và 255 là màu trắng sáng nhất\n",
        "# các giá trị càng gần với 255 thì càng sáng\n",
        "# xem shape của tập train, sau khi xem thì ta sẽ thấy thông tin x_train shape (60000, 28, 28)\n",
        "# nghĩa là có 60000 tấm ảnh trong tập train, mỗi tấm ảnh có kích thước 28*28\n",
        "\n",
        "print(\"x_train shape\",x_train.shape)\n",
        "\n",
        "# nếu muốn hiển thị ngẫu nhiên các tấm ảnh trong tập train thì dùng hàm sau\n",
        "\"\"\"\n",
        "plt.rcParams['figure.figsize']=(9,9)\n",
        "for i in range(9):\n",
        "  plt.subplot(3,3,i+1)\n",
        "  num=random.randint(0,len(x_train))\n",
        "  plt.imshow(x_train[num],cmap='gray',interpolation=None)\n",
        "  plt.title('Class {}'.format(y_train[num]))\n",
        "plt.tight_layout()  \n",
        "\"\"\"\n",
        "# thay đổi kích thước đầu vào chuyển đầu vào của mỗi tấm ảnh về dạng vector, \n",
        "# vì tập dữ liệu mnist được lưu ở dạng \n",
        "# ma trận 2 chiều gồm 28 dòng và 28 cột\n",
        "# trước khi truyền vào mạng neural cần chuyển sang dạng vector. Nếu dùng mạng CNN thì ko cần chuyển\n",
        "# mạng CNN các sv tự tìm hiểu thêm\n",
        "# 784= 28*28\n",
        "x_train=x_train.reshape(60000,784)\n",
        "x_train=x_train.astype('float32')\n",
        "# chuẩn hóa dữ liệu nằm trong khoảng 0-1 nên chia cho 255\n",
        "x_train/=255\n",
        "\n",
        "# sau khi chuẩn hóa xong muốn xem lại tập train thì cùng hàm print\n",
        "print(x_train)\n",
        "\n",
        "# tương tự đối với tập train,tập test chỉ gồm 10000 tấm ảnh\n",
        "x_test=x_test.reshape(10000,784)\n",
        "x_test=x_test.astype('float32')\n",
        "x_test/=255\n",
        "\n",
        "# sau khi chuẩn hóa xong muốn xem lại tập test thì cùng hàm print\n",
        "print(x_test)\n",
        "\n",
        "# vì đầu ra của mạng neural là nhận dạng 1 tấm ảnh thuộc 1 trong các lớp 0-9, nên ta dùng hàm này để \n",
        "# gán các giá trị kết quả cho tập y_test\n",
        "# ví dụ tấm ảnh là số 2 thì y_test ứng với tấm đó là:\n",
        "# [[0. 0. 1. ... 0. 0. 0.]]\n",
        "# giá trị ở vị trí số 2 là 1, các giá trị còn lại là 0\n",
        "nb_class=10\n",
        "y_train=np_utils.to_categorical(y_train,nb_class)\n",
        "y_test=np_utils.to_categorical(y_test,nb_class)\n",
        "\n",
        "model= Sequential()\n",
        "#add vào 1 lớp input,có 10 neural(10 neural) và mỗi neural có 784 input\n",
        "model.add(Dense(10,input_shape=(784,)))\n",
        "model.add(Activation('relu'))\n",
        "# add lớp hidden sẽ tự động lấy đầu vào của lớp đầu, giá trị hiden có thể thay đổi\n",
        "model.add(Dense(40))\n",
        "model.add(Activation('relu'))\n",
        "# add vào lớp đầu ra, bắt buộc là 10 vì số từ 0->9 là 10 số\n",
        "model.add(Dense(10))\n",
        "# dùng hàm softmax vì đầu ra là 10 lớp (nhận dạng số 0-9)\n",
        "model.add(Activation('softmax'))\n",
        "model.summary()\n",
        "\n",
        "model.compile(loss='categorical_crossentropy',optimizer='rmsprop',metrics=['accuracy'])\n",
        "#mỗi lần lấy 128 tấm ảnh để train\n",
        "model.fit(x_train,y_train,batch_size=128,epochs=5)\n",
        "\n",
        "# dự báo mô hình, giá trị dự báo được lưu vào biến predicted_classes\n",
        "# giá trị thực tế được lưu ở tập t_test\n",
        "predicted_classes=model.predict(x_test)\n",
        "\n",
        "# hiển thị 9 tấm ảnh ngẫu nhiên trong tập test\n",
        "# hiển thị kết quả dự báo của 9 tấm ảnh này theo mô hình neural vừa xây dựng\n",
        "# vì hàm imshow để hiển thị tấm ảnh dạng 28*28, vì ta đã reshape tấm ảnh thành dạng vector ở bước trước\n",
        "# nên bây giờ muốn hiển thị tấm ảnh cho tập dữ liệu đã reshape, ta lại dùng hàm reshape để về dạng ban đầu\n",
        "# vì hàm softmax dùng ở mạng neural ở lớp output là hàm tính xác suất, nên xác suất rơi vào lớp nào nhiều nhất thì output sẽ ra giá trị đó.\n",
        "# muốn xuất kết quả dự báo, ta dùng hàm argmax()\n",
        "plt.rcParams['figure.figsize']=(9,9)\n",
        "for i in range(9):\n",
        "  plt.subplot(3,3,i+1)\n",
        "  num=random.randint(0,len(x_test))\n",
        "  plt.imshow(x_test[num].reshape(28,28),cmap='gray',interpolation=None)\n",
        "  plt.title('Class {}'.format(predicted_classes[num].argmax()))\n",
        "plt.tight_layout()"
      ],
      "execution_count": null,
      "outputs": [
        {
          "output_type": "stream",
          "name": "stdout",
          "text": [
            "x_train shape (60000, 28, 28)\n",
            "[[0. 0. 0. ... 0. 0. 0.]\n",
            " [0. 0. 0. ... 0. 0. 0.]\n",
            " [0. 0. 0. ... 0. 0. 0.]\n",
            " ...\n",
            " [0. 0. 0. ... 0. 0. 0.]\n",
            " [0. 0. 0. ... 0. 0. 0.]\n",
            " [0. 0. 0. ... 0. 0. 0.]]\n",
            "[[0. 0. 0. ... 0. 0. 0.]\n",
            " [0. 0. 0. ... 0. 0. 0.]\n",
            " [0. 0. 0. ... 0. 0. 0.]\n",
            " ...\n",
            " [0. 0. 0. ... 0. 0. 0.]\n",
            " [0. 0. 0. ... 0. 0. 0.]\n",
            " [0. 0. 0. ... 0. 0. 0.]]\n",
            "Model: \"sequential_2\"\n",
            "_________________________________________________________________\n",
            " Layer (type)                Output Shape              Param #   \n",
            "=================================================================\n",
            " dense_5 (Dense)             (None, 10)                7850      \n",
            "                                                                 \n",
            " activation_3 (Activation)   (None, 10)                0         \n",
            "                                                                 \n",
            " dense_6 (Dense)             (None, 40)                440       \n",
            "                                                                 \n",
            " activation_4 (Activation)   (None, 40)                0         \n",
            "                                                                 \n",
            " dense_7 (Dense)             (None, 10)                410       \n",
            "                                                                 \n",
            " activation_5 (Activation)   (None, 10)                0         \n",
            "                                                                 \n",
            "=================================================================\n",
            "Total params: 8,700\n",
            "Trainable params: 8,700\n",
            "Non-trainable params: 0\n",
            "_________________________________________________________________\n",
            "Epoch 1/5\n",
            "469/469 [==============================] - 2s 3ms/step - loss: 0.6199 - accuracy: 0.8337\n",
            "Epoch 2/5\n",
            "469/469 [==============================] - 1s 3ms/step - loss: 0.3001 - accuracy: 0.9121\n",
            "Epoch 3/5\n",
            "469/469 [==============================] - 1s 2ms/step - loss: 0.2560 - accuracy: 0.9249\n",
            "Epoch 4/5\n",
            "469/469 [==============================] - 1s 2ms/step - loss: 0.2330 - accuracy: 0.9320\n",
            "Epoch 5/5\n",
            "469/469 [==============================] - 1s 2ms/step - loss: 0.2184 - accuracy: 0.9364\n"
          ]
        },
        {
          "output_type": "display_data",
          "data": {
            "image/png": "[encoded data removed]",
            "text/plain": [
              "<Figure size 648x648 with 9 Axes>"
            ]
          },
          "metadata": {
            "needs_background": "light"
          }
        }
      ]
    },
    {
      "cell_type": "markdown",
      "metadata": {
        "id": "7yflNkAoN6mW"
      },
      "source": [
        "2. Phân loại ảnh với dữ liệu CIFAR10 dataset bao gồm 50,000 training set và 10.000 test set ảnh màu kích thước 32x32 cho 10 thể loại khác nhau (máy bay, ô tô, thuyền, chim, chó, mèo, ngựa,...)."
      ]
    },
    {
      "cell_type": "code",
      "metadata": {
        "id": "3klMyX8mk3NF"
      },
      "source": [
        "import tensorflow as tf\n",
        "from tensorflow.keras import datasets, layers, models\n",
        "import matplotlib.pyplot as plt\n",
        "import numpy as np"
      ],
      "execution_count": null,
      "outputs": []
    },
    {
      "cell_type": "code",
      "metadata": {
        "colab": {
          "base_uri": "https://localhost:8080/"
        },
        "id": "mGYQ5kf2k5ab",
        "outputId": "588228c9-75ac-4df8-8f6f-144ed9929e79"
      },
      "source": [
        "(X_train, y_train), (X_test,y_test) = datasets.cifar10.load_data()\n",
        "X_train.shape"
      ],
      "execution_count": null,
      "outputs": [
        {
          "output_type": "stream",
          "name": "stdout",
          "text": [
            "Downloading data from https://www.cs.toronto.edu/~kriz/cifar-10-python.tar.gz\n",
            "170500096/170498071 [==============================] - 2s 0us/step\n",
            "170508288/170498071 [==============================] - 2s 0us/step\n"
          ]
        },
        {
          "output_type": "execute_result",
          "data": {
            "text/plain": [
              "(50000, 32, 32, 3)"
            ]
          },
          "metadata": {},
          "execution_count": 5
        }
      ]
    },
    {
      "cell_type": "code",
      "metadata": {
        "colab": {
          "base_uri": "https://localhost:8080/"
        },
        "id": "lnqJwgOyk7gy",
        "outputId": "6adf2410-b6c3-4999-a2e8-4650f06a24b5"
      },
      "source": [
        "X_test.shape"
      ],
      "execution_count": null,
      "outputs": [
        {
          "output_type": "execute_result",
          "data": {
            "text/plain": [
              "(10000, 32, 32, 3)"
            ]
          },
          "metadata": {},
          "execution_count": 9
        }
      ]
    },
    {
      "cell_type": "code",
      "metadata": {
        "colab": {
          "base_uri": "https://localhost:8080/"
        },
        "id": "gmDU6n4Ak-wT",
        "outputId": "88e2d20b-f8e1-438c-89f0-c31c1eb1f39f"
      },
      "source": [
        "y_train.shape"
      ],
      "execution_count": null,
      "outputs": [
        {
          "output_type": "execute_result",
          "data": {
            "text/plain": [
              "(50000, 1)"
            ]
          },
          "metadata": {},
          "execution_count": 10
        }
      ]
    },
    {
      "cell_type": "code",
      "metadata": {
        "colab": {
          "base_uri": "https://localhost:8080/"
        },
        "id": "VnE7H1K9lEaE",
        "outputId": "f7d63cb3-e86e-4ce3-be74-f59967e062b3"
      },
      "source": [
        "y_train[:5]"
      ],
      "execution_count": null,
      "outputs": [
        {
          "output_type": "execute_result",
          "data": {
            "text/plain": [
              "array([[6],\n",
              "       [9],\n",
              "       [9],\n",
              "       [4],\n",
              "       [1]], dtype=uint8)"
            ]
          },
          "metadata": {},
          "execution_count": 11
        }
      ]
    },
    {
      "cell_type": "code",
      "metadata": {
        "colab": {
          "base_uri": "https://localhost:8080/"
        },
        "id": "La5uXAkWlJWc",
        "outputId": "e0bebf68-f1ca-44b8-c6f3-b2e321c47147"
      },
      "source": [
        "y_train = y_train.reshape(-1,)\n",
        "y_train[:5]"
      ],
      "execution_count": null,
      "outputs": [
        {
          "output_type": "execute_result",
          "data": {
            "text/plain": [
              "array([6, 9, 9, 4, 1], dtype=uint8)"
            ]
          },
          "metadata": {},
          "execution_count": 12
        }
      ]
    },
    {
      "cell_type": "code",
      "metadata": {
        "id": "Fq6P_5lElLVl"
      },
      "source": [
        "y_test = y_test.reshape(-1,)"
      ],
      "execution_count": null,
      "outputs": []
    },
    {
      "cell_type": "code",
      "metadata": {
        "id": "oVrEBP4wlbnL"
      },
      "source": [
        "classes = [\"airplane\",\"automobile\",\"bird\",\"cat\",\"deer\",\"dog\",\"frog\",\"horse\",\"ship\",\"truck\"]"
      ],
      "execution_count": null,
      "outputs": []
    },
    {
      "cell_type": "code",
      "metadata": {
        "id": "8p1Uyn5alSdb"
      },
      "source": [
        "def plot_sample(X, y, index):\n",
        "    plt.figure(figsize = (15,2))\n",
        "    plt.imshow(X[index])\n",
        "    plt.xlabel(classes[y[index]])"
      ],
      "execution_count": null,
      "outputs": []
    },
    {
      "cell_type": "code",
      "metadata": {
        "colab": {
          "base_uri": "https://localhost:8080/",
          "height": 173
        },
        "id": "s_nHwghKlU6M",
        "outputId": "9459147a-3423-401c-c5ff-47967d3da540"
      },
      "source": [
        "plot_sample(X_train, y_train, 0)"
      ],
      "execution_count": null,
      "outputs": [
        {
          "output_type": "display_data",
          "data": {
            "image/png": "[encoded data removed]",
            "text/plain": [
              "<Figure size 1080x144 with 1 Axes>"
            ]
          },
          "metadata": {
            "needs_background": "light"
          }
        }
      ]
    },
    {
      "cell_type": "code",
      "metadata": {
        "id": "PsTpS1IHmUeS"
      },
      "source": [
        "X_train = X_train / 255.0\n",
        "X_test = X_test / 255.0"
      ],
      "execution_count": null,
      "outputs": []
    },
    {
      "cell_type": "code",
      "metadata": {
        "colab": {
          "base_uri": "https://localhost:8080/"
        },
        "id": "rPu60X8qmbjy",
        "outputId": "7cdf506b-9279-44fd-f909-89beaedd8c98"
      },
      "source": [
        "ann = models.Sequential([\n",
        "        layers.Flatten(input_shape=(32,32,3)),\n",
        "        layers.Dense(3000, activation='relu'),\n",
        "        layers.Dense(1000, activation='relu'),\n",
        "        layers.Dense(10, activation='softmax')    \n",
        "    ])\n",
        "\n",
        "ann.compile(optimizer='SGD',\n",
        "              loss='sparse_categorical_crossentropy',\n",
        "              metrics=['accuracy'])\n",
        "\n",
        "ann.fit(X_train, y_train, epochs=5)"
      ],
      "execution_count": null,
      "outputs": [
        {
          "output_type": "stream",
          "name": "stdout",
          "text": [
            "Epoch 1/5\n",
            "1563/1563 [==============================] - 100s 64ms/step - loss: 1.8087 - accuracy: 0.3538\n",
            "Epoch 2/5\n",
            "1563/1563 [==============================] - 99s 63ms/step - loss: 1.6246 - accuracy: 0.4245\n",
            "Epoch 3/5\n",
            "1563/1563 [==============================] - 99s 63ms/step - loss: 1.5405 - accuracy: 0.4561\n",
            "Epoch 4/5\n",
            "1563/1563 [==============================] - 99s 63ms/step - loss: 1.4821 - accuracy: 0.4774\n",
            "Epoch 5/5\n",
            "1563/1563 [==============================] - 99s 63ms/step - loss: 1.4329 - accuracy: 0.4956\n"
          ]
        },
        {
          "output_type": "execute_result",
          "data": {
            "text/plain": [
              "<keras.callbacks.History at 0x7f2aac3d9b50>"
            ]
          },
          "metadata": {},
          "execution_count": 21
        }
      ]
    },
    {
      "cell_type": "code",
      "metadata": {
        "colab": {
          "base_uri": "https://localhost:8080/"
        },
        "id": "UewFpMKHoZ4J",
        "outputId": "4f1838c1-1103-40da-9540-460780e5549c"
      },
      "source": [
        "from sklearn.metrics import confusion_matrix , classification_report\n",
        "import numpy as np\n",
        "y_pred = ann.predict(X_test)\n",
        "y_pred_classes = [np.argmax(element) for element in y_pred]\n",
        "\n",
        "print(\"Classification Report: \\n\", classification_report(y_test, y_pred_classes))"
      ],
      "execution_count": null,
      "outputs": [
        {
          "output_type": "stream",
          "name": "stdout",
          "text": [
            "Classification Report: \n",
            "               precision    recall  f1-score   support\n",
            "\n",
            "           0       0.67      0.40      0.50      1000\n",
            "           1       0.73      0.40      0.52      1000\n",
            "           2       0.37      0.35      0.36      1000\n",
            "           3       0.41      0.22      0.29      1000\n",
            "           4       0.52      0.29      0.37      1000\n",
            "           5       0.43      0.36      0.39      1000\n",
            "           6       0.34      0.82      0.48      1000\n",
            "           7       0.56      0.52      0.54      1000\n",
            "           8       0.49      0.76      0.59      1000\n",
            "           9       0.54      0.56      0.55      1000\n",
            "\n",
            "    accuracy                           0.47     10000\n",
            "   macro avg       0.50      0.47      0.46     10000\n",
            "weighted avg       0.50      0.47      0.46     10000\n",
            "\n"
          ]
        }
      ]
    },
    {
      "cell_type": "code",
      "metadata": {
        "id": "pu8SQk-pogTY"
      },
      "source": [
        "cnn = models.Sequential([\n",
        "    layers.Conv2D(filters=32, kernel_size=(3, 3), activation='relu', input_shape=(32, 32, 3)),\n",
        "    layers.MaxPooling2D((2, 2)),\n",
        "    \n",
        "    layers.Conv2D(filters=64, kernel_size=(3, 3), activation='relu'),\n",
        "    layers.MaxPooling2D((2, 2)),\n",
        "    \n",
        "    layers.Flatten(),\n",
        "    layers.Dense(64, activation='relu'),\n",
        "    layers.Dense(10, activation='softmax')\n",
        "])"
      ],
      "execution_count": null,
      "outputs": []
    },
    {
      "cell_type": "code",
      "metadata": {
        "id": "ST2jjPLxojU4"
      },
      "source": [
        "cnn.compile(optimizer='adam',\n",
        "              loss='sparse_categorical_crossentropy',\n",
        "              metrics=['accuracy'])"
      ],
      "execution_count": null,
      "outputs": []
    },
    {
      "cell_type": "code",
      "metadata": {
        "colab": {
          "base_uri": "https://localhost:8080/"
        },
        "id": "PucDzkcEolGE",
        "outputId": "a3a56237-649e-4872-e2c6-4c3d8f704efa"
      },
      "source": [
        "cnn.fit(X_train, y_train, epochs=10)"
      ],
      "execution_count": null,
      "outputs": [
        {
          "output_type": "stream",
          "name": "stdout",
          "text": [
            "Epoch 1/10\n",
            "1563/1563 [==============================] - 62s 39ms/step - loss: 1.4518 - accuracy: 0.4803\n",
            "Epoch 2/10\n",
            "1563/1563 [==============================] - 61s 39ms/step - loss: 1.1112 - accuracy: 0.6105\n",
            "Epoch 3/10\n",
            "1563/1563 [==============================] - 61s 39ms/step - loss: 0.9985 - accuracy: 0.6547\n",
            "Epoch 4/10\n",
            "1563/1563 [==============================] - 61s 39ms/step - loss: 0.9179 - accuracy: 0.6825\n",
            "Epoch 5/10\n",
            "1563/1563 [==============================] - 61s 39ms/step - loss: 0.8513 - accuracy: 0.7038\n",
            "Epoch 6/10\n",
            "1563/1563 [==============================] - 61s 39ms/step - loss: 0.7992 - accuracy: 0.7238\n",
            "Epoch 7/10\n",
            "1563/1563 [==============================] - 61s 39ms/step - loss: 0.7506 - accuracy: 0.7385\n",
            "Epoch 8/10\n",
            "1563/1563 [==============================] - 61s 39ms/step - loss: 0.7042 - accuracy: 0.7547\n",
            "Epoch 9/10\n",
            "1563/1563 [==============================] - 61s 39ms/step - loss: 0.6594 - accuracy: 0.7697\n",
            "Epoch 10/10\n",
            "1563/1563 [==============================] - 61s 39ms/step - loss: 0.6260 - accuracy: 0.7814\n"
          ]
        },
        {
          "output_type": "execute_result",
          "data": {
            "text/plain": [
              "<keras.callbacks.History at 0x7f2ab0528510>"
            ]
          },
          "metadata": {},
          "execution_count": 25
        }
      ]
    },
    {
      "cell_type": "code",
      "metadata": {
        "colab": {
          "base_uri": "https://localhost:8080/"
        },
        "id": "7bYo3i8zq-pv",
        "outputId": "c335f91c-21c5-44bc-f712-3f1ec8f27b97"
      },
      "source": [
        "cnn.evaluate(X_test,y_test)"
      ],
      "execution_count": null,
      "outputs": [
        {
          "output_type": "stream",
          "name": "stdout",
          "text": [
            "313/313 [==============================] - 4s 12ms/step - loss: 0.9590 - accuracy: 0.6836\n"
          ]
        },
        {
          "output_type": "execute_result",
          "data": {
            "text/plain": [
              "[0.9590146541595459, 0.6836000084877014]"
            ]
          },
          "metadata": {},
          "execution_count": 26
        }
      ]
    },
    {
      "cell_type": "code",
      "metadata": {
        "colab": {
          "base_uri": "https://localhost:8080/"
        },
        "id": "yIneNpq7rBrW",
        "outputId": "65af0fd1-cab9-46e4-ee1e-2f408b4f7081"
      },
      "source": [
        "y_pred = cnn.predict(X_test)\n",
        "y_pred[:5]"
      ],
      "execution_count": null,
      "outputs": [
        {
          "output_type": "execute_result",
          "data": {
            "text/plain": [
              "array([[3.21568892e-04, 4.28859530e-05, 1.16932474e-03, 8.95658076e-01,\n",
              "        1.03409227e-03, 9.76415426e-02, 3.41185695e-03, 1.93472551e-05,\n",
              "        6.22177264e-04, 7.90526174e-05],\n",
              "       [4.58504679e-03, 4.85243835e-03, 2.89304847e-08, 1.54679498e-07,\n",
              "        7.04664727e-09, 3.62209018e-09, 6.55717564e-11, 7.15250152e-08,\n",
              "        9.90151465e-01, 4.10758366e-04],\n",
              "       [4.59593870e-02, 5.58847725e-01, 8.57756997e-04, 3.92698357e-03,\n",
              "        1.49109284e-03, 1.30434707e-03, 1.48672581e-04, 2.03363132e-03,\n",
              "        2.82429427e-01, 1.03000931e-01],\n",
              "       [2.66490668e-01, 3.20389424e-03, 2.08438234e-03, 1.38394639e-03,\n",
              "        1.64229795e-02, 2.87606636e-05, 2.76010338e-04, 6.08024187e-04,\n",
              "        7.09081113e-01, 4.20251890e-04],\n",
              "       [8.41701421e-06, 6.85240138e-06, 1.92587581e-02, 2.00026482e-01,\n",
              "        3.91698867e-01, 1.82523020e-02, 3.70014012e-01, 5.29628189e-04,\n",
              "        9.55022842e-05, 1.09223794e-04]], dtype=float32)"
            ]
          },
          "metadata": {},
          "execution_count": 27
        }
      ]
    },
    {
      "cell_type": "code",
      "metadata": {
        "colab": {
          "base_uri": "https://localhost:8080/"
        },
        "id": "d3sYPDT9rZ7X",
        "outputId": "b8b13ecd-6983-4c91-c573-3843301134ac"
      },
      "source": [
        "y_classes = [np.argmax(element) for element in y_pred]\n",
        "y_classes[:5]"
      ],
      "execution_count": null,
      "outputs": [
        {
          "output_type": "execute_result",
          "data": {
            "text/plain": [
              "[3, 8, 1, 8, 4]"
            ]
          },
          "metadata": {},
          "execution_count": 32
        }
      ]
    },
    {
      "cell_type": "code",
      "metadata": {
        "colab": {
          "base_uri": "https://localhost:8080/"
        },
        "id": "pSxstP4QrDsm",
        "outputId": "5e39b0cb-ebfd-4426-c0bc-ae22cdd21423"
      },
      "source": [
        "y_test[:5]"
      ],
      "execution_count": null,
      "outputs": [
        {
          "output_type": "execute_result",
          "data": {
            "text/plain": [
              "array([3, 8, 8, 0, 6], dtype=uint8)"
            ]
          },
          "metadata": {},
          "execution_count": 33
        }
      ]
    },
    {
      "cell_type": "code",
      "metadata": {
        "colab": {
          "base_uri": "https://localhost:8080/"
        },
        "id": "ZJR_u_FLrOoW",
        "outputId": "0c6d330e-3200-4f18-cd02-f5b8b55e644b"
      },
      "source": [
        "y_test[:5]"
      ],
      "execution_count": null,
      "outputs": [
        {
          "output_type": "execute_result",
          "data": {
            "text/plain": [
              "array([3, 8, 8, 0, 6], dtype=uint8)"
            ]
          },
          "metadata": {},
          "execution_count": 34
        }
      ]
    },
    {
      "cell_type": "code",
      "metadata": {
        "colab": {
          "base_uri": "https://localhost:8080/",
          "height": 173
        },
        "id": "xiAoRU-JrQt-",
        "outputId": "08b82abb-bd92-405f-8869-199b7aa2950d"
      },
      "source": [
        "plot_sample(X_test, y_test,3)"
      ],
      "execution_count": null,
      "outputs": [
        {
          "output_type": "display_data",
          "data": {
            "image/png": "[encoded data removed]",
            "text/plain": [
              "<Figure size 1080x144 with 1 Axes>"
            ]
          },
          "metadata": {
            "needs_background": "light"
          }
        }
      ]
    },
    {
      "cell_type": "code",
      "metadata": {
        "colab": {
          "base_uri": "https://localhost:8080/",
          "height": 35
        },
        "id": "7OHEwQwJrSQQ",
        "outputId": "c37c63f2-d81d-4196-9e1e-4a9778bd1f60"
      },
      "source": [
        "classes[y_classes[3]]"
      ],
      "execution_count": null,
      "outputs": [
        {
          "output_type": "execute_result",
          "data": {
            "application/vnd.google.colaboratory.intrinsic+json": {
              "type": "string"
            },
            "text/plain": [
              "'ship'"
            ]
          },
          "metadata": {},
          "execution_count": 36
        }
      ]
    },
    {
      "cell_type": "code",
      "metadata": {
        "colab": {
          "base_uri": "https://localhost:8080/",
          "height": 35
        },
        "id": "Frwgvq1DrT--",
        "outputId": "7edbfce6-19c7-4da2-cf61-29cbcbb89c7a"
      },
      "source": [
        "classes[y_classes[9]]"
      ],
      "execution_count": null,
      "outputs": [
        {
          "output_type": "execute_result",
          "data": {
            "application/vnd.google.colaboratory.intrinsic+json": {
              "type": "string"
            },
            "text/plain": [
              "'automobile'"
            ]
          },
          "metadata": {},
          "execution_count": 39
        }
      ]
    }
  ]
}